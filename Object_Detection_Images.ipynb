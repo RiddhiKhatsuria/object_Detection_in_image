{
  "nbformat": 4,
  "nbformat_minor": 0,
  "metadata": {
    "colab": {
      "name": "Welcome To Colaboratory",
      "provenance": [],
      "collapsed_sections": [],
      "include_colab_link": true
    },
    "kernelspec": {
      "display_name": "Python 3",
      "name": "python3"
    }
  },
  "cells": [
    {
      "cell_type": "markdown",
      "metadata": {
        "id": "view-in-github",
        "colab_type": "text"
      },
      "source": [
        "<a href=\"https://colab.research.google.com/github/ParthPathak27/Object-Detection-on-Images/blob/master/Object_Detection_Images.ipynb\" target=\"_parent\"><img src=\"https://colab.research.google.com/assets/colab-badge.svg\" alt=\"Open In Colab\"/></a>"
      ]
    },
    {
      "cell_type": "code",
      "metadata": {
        "id": "u5FQiouDiEdm",
        "colab_type": "code",
        "colab": {}
      },
      "source": [
        "import numpy as np\n",
        "import cv2"
      ],
      "execution_count": 5,
      "outputs": []
    },
    {
      "cell_type": "code",
      "metadata": {
        "id": "E5QsVHQgiKxR",
        "colab_type": "code",
        "colab": {}
      },
      "source": [
        "# initialize the list of class labels MobileNet SSD was trained to\n",
        "# detect, then generate a set of bounding box colors for each class\n",
        "CLASSES = [\"background\", \"aeroplane\", \"bicycle\", \"bird\", \"boat\",\n",
        "\t\"bottle\", \"bus\", \"car\", \"cat\", \"chair\", \"cow\", \"diningtable\",\n",
        "\t\"dog\", \"horse\", \"motorbike\", \"person\", \"pottedplant\", \"sheep\",\n",
        "\t\"sofa\", \"train\", \"tvmonitor\"]\n",
        "COLORS = np.random.uniform(0, 255, size=(len(CLASSES), 3))"
      ],
      "execution_count": 7,
      "outputs": []
    },
    {
      "cell_type": "code",
      "metadata": {
        "id": "N6GHdohdiXeA",
        "colab_type": "code",
        "colab": {}
      },
      "source": [
        "print(\"[INFO] loading model...\")\n",
        "net = cv2.dnn.readNetFromCaffe(\"/content/MobileNetSSD_deploy.prototxt.txt\", \"/content/MobileNetSSD_deploy.caffemodel\")\n",
        "\n",
        "# load the input image and construct an input blob for the image\n",
        "# by resizing to a fixed 300x300 pixels and then normalizing it\n",
        "# (note: normalization is done via the authors of the MobileNet SSD\n",
        "# implementation)\n",
        "image = cv2.imread(\"/content/3.jpg\")\n",
        "(h, w) = image.shape[:2]\n",
        "blob = cv2.dnn.blobFromImage(cv2.resize(image, (300, 300)), 0.007843, (300, 300), 127.5)"
      ],
      "execution_count": null,
      "outputs": []
    },
    {
      "cell_type": "code",
      "metadata": {
        "id": "dnVh9WvJi3Sm",
        "colab_type": "code",
        "colab": {}
      },
      "source": [
        "# pass the blob through the network and obtain the detections and\n",
        "# predictions\n",
        "print(\"[INFO] computing object detections...\")\n",
        "net.setInput(blob)\n",
        "detections = net.forward()\n",
        "\n",
        "# loop over the detections\n",
        "for i in np.arange(0, detections.shape[2]):\n",
        "\t# extract the confidence (i.e., probability) associated with the\n",
        "\t# prediction\n",
        "\tconfidence = detections[0, 0, i, 2]\n",
        "\n",
        "\t# filter out weak detections by ensuring the `confidence` is\n",
        "\t# greater than the minimum confidence\n",
        "\tif confidence > 0.2:\n",
        "\t\t# extract the index of the class label from the `detections`,\n",
        "\t\t# then compute the (x, y)-coordinates of the bounding box for\n",
        "\t\t# the object\n",
        "\t\tidx = int(detections[0, 0, i, 1])\n",
        "\t\tbox = detections[0, 0, i, 3:7] * np.array([w, h, w, h])\n",
        "\t\t(startX, startY, endX, endY) = box.astype(\"int\")\n",
        "\n",
        "\t\t# display the prediction\n",
        "\t\tlabel = \"{}: {:.2f}%\".format(CLASSES[idx], confidence * 100)\n",
        "\t\tprint(\"[INFO] {}\".format(label))\n",
        "\t\tcv2.rectangle(image, (startX, startY), (endX, endY),\n",
        "\t\t\tCOLORS[idx], 2)\n",
        "\t\ty = startY - 15 if startY - 15 > 15 else startY + 15\n",
        "\t\tcv2.putText(image, label, (startX, y),\n",
        "\t\t\tcv2.FONT_HERSHEY_SIMPLEX, 0.5, COLORS[idx], 2)\n",
        "\n",
        "# show the output image\n",
        "cv2.imshow(\"Output\", image)\n",
        "cv2.waitKey(0)\n"
      ],
      "execution_count": null,
      "outputs": []
    },
    {
      "cell_type": "code",
      "metadata": {
        "id": "d8CJgHxBoUz2",
        "colab_type": "code",
        "colab": {}
      },
      "source": [
        ""
      ],
      "execution_count": null,
      "outputs": []
    }
  ]
}